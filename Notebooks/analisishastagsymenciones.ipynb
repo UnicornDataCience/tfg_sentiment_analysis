{
 "cells": [
  {
   "cell_type": "code",
   "execution_count": null,
   "metadata": {},
   "outputs": [],
   "source": [
    "import pandas as pd\n",
    "import re\n"
   ]
  },
  {
   "cell_type": "code",
   "execution_count": 2,
   "metadata": {},
   "outputs": [],
   "source": [
    "df = pd.read_csv(\"C:\\\\TFG\\\\RawData\\\\Catalonian independence corpus\\\\spanish_test.csv\", sep='\\t', encoding='utf-8')\n",
    "df2 = pd.read_csv(\"C:\\\\TFG\\\\RawData\\\\Catalonian independence corpus\\\\spanish_train.csv\", sep='\\t', encoding='utf-8')\n",
    "df3 = pd.read_csv(\"C:\\\\TFG\\\\RawData\\\\Catalonian independence corpus\\\\spanish_val.csv\", sep='\\t', encoding='utf-8')\n",
    "df_es = pd.concat([df, df2, df3], ignore_index=True)\n",
    "df4 = pd.read_csv(\"C:\\\\TFG\\\\RawData\\\\Catalonian independence corpus\\\\catalan_test.csv\", sep='\\t', encoding='utf-8')\n",
    "df5 = pd.read_csv(\"C:\\\\TFG\\\\RawData\\\\Catalonian independence corpus\\\\catalan_train.csv\", sep='\\t', encoding='utf-8')\n",
    "df6 = pd.read_csv(\"C:\\\\TFG\\\\RawData\\\\Catalonian independence corpus\\\\catalan_val.csv\", sep='\\t', encoding='utf-8')\n",
    "df_ca = pd.concat([df4, df5, df6], ignore_index=True)"
   ]
  },
  {
   "cell_type": "code",
   "execution_count": 5,
   "metadata": {},
   "outputs": [],
   "source": [
    "def extract_mentions_hashtags(text):\n",
    "        '''\n",
    "        la función extract_mentions_hashtags recibe un texto y devuelve dos listas, una con las menciones y otra con los hashtags que aparecen en el texto\n",
    "        '''\n",
    "        # filtrar palabras que comienzan con @\n",
    "        mentions = re.findall(r'@\\w+', text)\n",
    "        # filtrar palabras que comienzan con #\n",
    "        hashtags = re.findall(r'#\\w+', text)\n",
    "        return mentions, hashtags"
   ]
  },
  {
   "cell_type": "code",
   "execution_count": 6,
   "metadata": {},
   "outputs": [],
   "source": [
    "# conteo de frecuencias de menciones y hashtags\n",
    "mentions_es = {}\n",
    "hashtags_es = {}\n",
    "mentions_ca = {}\n",
    "hashtags_ca = {}\n",
    "for text in df_es[\"TWEET\"]:\n",
    "    mentions, hashtags = extract_mentions_hashtags(text)\n",
    "    for mention in mentions:\n",
    "        if mention in mentions_es:\n",
    "            mentions_es[mention] += 1\n",
    "        else:\n",
    "            mentions_es[mention] = 1\n",
    "    for hashtag in hashtags:\n",
    "        if hashtag in hashtags_es:\n",
    "            hashtags_es[hashtag] += 1\n",
    "        else:\n",
    "            hashtags_es[hashtag] = 1\n",
    "for text in df_ca[\"TWEET\"]:\n",
    "    mentions, hashtags = extract_mentions_hashtags(text)\n",
    "    for mention in mentions:\n",
    "        if mention in mentions_ca:\n",
    "            mentions_ca[mention] += 1\n",
    "        else:\n",
    "            mentions_ca[mention] = 1\n",
    "    for hashtag in hashtags:\n",
    "        if hashtag in hashtags_ca:\n",
    "            hashtags_ca[hashtag] += 1\n",
    "        else:\n",
    "            hashtags_ca[hashtag] = 1\n",
    "            \n",
    "# convertir los diccionarios en dataframes\n",
    "mentions_es = pd.DataFrame(mentions_es.items(), columns=[\"mention\", \"count\"])\n",
    "hashtags_es = pd.DataFrame(hashtags_es.items(), columns=[\"hashtag\", \"count\"])\n",
    "mentions_ca = pd.DataFrame(mentions_ca.items(), columns=[\"mention\", \"count\"])\n",
    "hashtags_ca = pd.DataFrame(hashtags_ca.items(), columns=[\"hashtag\", \"count\"])\n"
   ]
  },
  {
   "cell_type": "code",
   "execution_count": 7,
   "metadata": {},
   "outputs": [],
   "source": [
    "# ordenar los dataframes por frecuencia de mayor a menor\n",
    "mentions_es = mentions_es.sort_values(by=\"count\", ascending=False)\n",
    "hashtags_es = hashtags_es.sort_values(by=\"count\", ascending=False)\n",
    "mentions_ca = mentions_ca.sort_values(by=\"count\", ascending=False)\n",
    "hashtags_ca = hashtags_ca.sort_values(by=\"count\", ascending=False)"
   ]
  },
  {
   "cell_type": "code",
   "execution_count": 9,
   "metadata": {},
   "outputs": [],
   "source": [
    "mentions_es.head(100).to_excel(\"C:\\\\TFG\\\\DataProcessed\\\\mentions_es.xlsx\", index=False)\n",
    "hashtags_es.head(100).to_excel(\"C:\\\\TFG\\\\DataProcessed\\\\hashtags_es.xlsx\", index=False)\n",
    "mentions_ca.head(100).to_excel(\"C:\\\\TFG\\\\DataProcessed\\\\mentions_ca.xlsx\", index=False)\n",
    "hashtags_ca.head(100).to_excel(\"C:\\\\TFG\\\\DataProcessed\\\\hashtags_ca.xlsx\", index=False)"
   ]
  },
  {
   "cell_type": "code",
   "execution_count": null,
   "metadata": {},
   "outputs": [],
   "source": []
  }
 ],
 "metadata": {
  "kernelspec": {
   "display_name": "Python 3",
   "language": "python",
   "name": "python3"
  },
  "language_info": {
   "codemirror_mode": {
    "name": "ipython",
    "version": 3
   },
   "file_extension": ".py",
   "mimetype": "text/x-python",
   "name": "python",
   "nbconvert_exporter": "python",
   "pygments_lexer": "ipython3",
   "version": "3.9.13"
  }
 },
 "nbformat": 4,
 "nbformat_minor": 2
}
