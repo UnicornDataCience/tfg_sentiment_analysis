{
 "cells": [
  {
   "cell_type": "code",
   "execution_count": 10,
   "metadata": {},
   "outputs": [
    {
     "name": "stdout",
     "output_type": "stream",
     "text": [
      "Looking in indexes: https://pypi.org/simple, https://pypi.ngc.nvidia.com\n",
      "Requirement already satisfied: ftfy in c:\\users\\lenovo\\appdata\\local\\programs\\python\\python39\\lib\\site-packages (6.2.0)\n",
      "Requirement already satisfied: wcwidth<0.3.0,>=0.2.12 in c:\\users\\lenovo\\appdata\\local\\programs\\python\\python39\\lib\\site-packages (from ftfy) (0.2.13)\n"
     ]
    }
   ],
   "source": [
    "# !pip install sentence_transformers\n",
    "# !pip install ftfy\n",
    "# !pip install unidecode"
   ]
  },
  {
   "cell_type": "code",
   "execution_count": 1,
   "metadata": {},
   "outputs": [
    {
     "name": "stderr",
     "output_type": "stream",
     "text": [
      "c:\\Users\\Lenovo\\anaconda3\\envs\\ChromaDB\\lib\\site-packages\\tqdm\\auto.py:21: TqdmWarning: IProgress not found. Please update jupyter and ipywidgets. See https://ipywidgets.readthedocs.io/en/stable/user_install.html\n",
      "  from .autonotebook import tqdm as notebook_tqdm\n"
     ]
    }
   ],
   "source": [
    "import pandas as pd\n",
    "from sentence_transformers import SentenceTransformer\n",
    "import re\n",
    "from sentence_transformers import util\n",
    "import torch\n",
    "import string"
   ]
  },
  {
   "cell_type": "code",
   "execution_count": 2,
   "metadata": {},
   "outputs": [],
   "source": [
    "df = pd.read_csv('C:\\TFG\\DataProcessed\\independencia_df_ca.csv')"
   ]
  },
  {
   "cell_type": "code",
   "execution_count": 3,
   "metadata": {},
   "outputs": [],
   "source": [
    "def preprocess_text_independence_ca(tweet):\n",
    "    '''\n",
    "    la función preprocess_text_independence recibe un tweet y realiza una serie de transformaciones\n",
    "    parámetros:\n",
    "    - tweet: texto del tweet en catalán\n",
    "    retorna:\n",
    "    - text: texto preprocesado en catalán\n",
    "    '''\n",
    "    text = re.sub(r'@\\w+|#\\w+', '', tweet)\n",
    "    # se eliminan los signos de puntuación de cada tweet\n",
    "    text = \"\".join([char for char in text if char not in string.punctuation])\n",
    "    emojis = re.compile(\"[\"\n",
    "                        u\"\\U0001F600-\\U0001F64F\"  # emoticonos\n",
    "                        u\"\\U0001F300-\\U0001F5FF\"  # símbolos y emoticonos\n",
    "                        u\"\\U0001F680-\\U0001F6FF\"  # emoticonos suplementarios\n",
    "                        u\"\\U0001F900-\\U0001F9FF\"  # emoticonos ideográficos\n",
    "                        u\"\\U0001FA00-\\U0001FA6F\"  # emoticonos de símbolos diversos\n",
    "                        u\"\\U0001FA70-\\U0001FAFF\"  # emoticonos de transporte y objetos\n",
    "                        u\"\\U0001F000-\\U0001F0FF\"  \n",
    "                        u\"\\U00002702-\\U000027B0\"\n",
    "                        u\"\\U000024C2-\\U0001F251\"\n",
    "                        \"]+\", flags=re.UNICODE)\n",
    "    text = emojis.sub('', text)\n",
    "    # se eliminan las URL que empiezan por http\n",
    "    text = re.sub(r'http\\S+', '', text)\n",
    "    # se eliminan las URL que empiezan por www\n",
    "    text = re.sub(r'www\\S+', '', text)\n",
    "    # se eliminan las URL que empiezan por https\n",
    "    text = re.sub(r'https\\S+', '', text)\n",
    "    return text"
   ]
  },
  {
   "cell_type": "code",
   "execution_count": 4,
   "metadata": {},
   "outputs": [],
   "source": [
    "# se aplica la función preprocess_text_independence al dataset en español\n",
    "df['Texto_preprocesado'] = df['Texto'].apply(lambda x: preprocess_text_independence_ca(x))"
   ]
  },
  {
   "cell_type": "code",
   "execution_count": 5,
   "metadata": {},
   "outputs": [
    {
     "data": {
      "text/html": [
       "<div>\n",
       "<style scoped>\n",
       "    .dataframe tbody tr th:only-of-type {\n",
       "        vertical-align: middle;\n",
       "    }\n",
       "\n",
       "    .dataframe tbody tr th {\n",
       "        vertical-align: top;\n",
       "    }\n",
       "\n",
       "    .dataframe thead th {\n",
       "        text-align: right;\n",
       "    }\n",
       "</style>\n",
       "<table border=\"1\" class=\"dataframe\">\n",
       "  <thead>\n",
       "    <tr style=\"text-align: right;\">\n",
       "      <th></th>\n",
       "      <th>Id</th>\n",
       "      <th>Texto</th>\n",
       "      <th>Sentimiento</th>\n",
       "      <th>Texto_preprocesado</th>\n",
       "    </tr>\n",
       "  </thead>\n",
       "  <tbody>\n",
       "    <tr>\n",
       "      <th>0</th>\n",
       "      <td>1.102852e+34</td>\n",
       "      <td>En @fgarrobo ha fet més per l’independentisme ...</td>\n",
       "      <td>Negativo</td>\n",
       "      <td>En  ha fet més per l’independentisme i la unit...</td>\n",
       "    </tr>\n",
       "    <tr>\n",
       "      <th>1</th>\n",
       "      <td>1.098893e+18</td>\n",
       "      <td>Divendres 22F acte Cloenda campanya de les can...</td>\n",
       "      <td>Positivo</td>\n",
       "      <td>Divendres 22F acte Cloenda campanya de les can...</td>\n",
       "    </tr>\n",
       "    <tr>\n",
       "      <th>2</th>\n",
       "      <td>1.099032e+34</td>\n",
       "      <td>Puigdemont porta a la Defensora del Poble euro...</td>\n",
       "      <td>Neutral</td>\n",
       "      <td>Puigdemont porta a la Defensora del Poble euro...</td>\n",
       "    </tr>\n",
       "    <tr>\n",
       "      <th>3</th>\n",
       "      <td>1.102519e+32</td>\n",
       "      <td>José Antonio Nieto, ex-secretari d'Estat de Se...</td>\n",
       "      <td>Neutral</td>\n",
       "      <td>José Antonio Nieto exsecretari dEstat de Segur...</td>\n",
       "    </tr>\n",
       "    <tr>\n",
       "      <th>4</th>\n",
       "      <td>1.093082e+18</td>\n",
       "      <td>Es passen dies denunciant l'autocar amb que va...</td>\n",
       "      <td>Positivo</td>\n",
       "      <td>Es passen dies denunciant lautocar amb que van...</td>\n",
       "    </tr>\n",
       "    <tr>\n",
       "      <th>...</th>\n",
       "      <td>...</td>\n",
       "      <td>...</td>\n",
       "      <td>...</td>\n",
       "      <td>...</td>\n",
       "    </tr>\n",
       "    <tr>\n",
       "      <th>10043</th>\n",
       "      <td>1.098828e+34</td>\n",
       "      <td>@JoanTarda @I_CSC Això és un sindicat...i tu e...</td>\n",
       "      <td>Negativo</td>\n",
       "      <td>Això és un sindicati tu ets de esquerres Est...</td>\n",
       "    </tr>\n",
       "    <tr>\n",
       "      <th>10044</th>\n",
       "      <td>1.097865e+18</td>\n",
       "      <td>@miqueliceta @PSOE @socialistes_cat Deixi de p...</td>\n",
       "      <td>Positivo</td>\n",
       "      <td>Deixi de prendre els catalans per imbècils ...</td>\n",
       "    </tr>\n",
       "    <tr>\n",
       "      <th>10045</th>\n",
       "      <td>1.097985e+18</td>\n",
       "      <td>L'@annasaliente ens parla avui de filosofia i ...</td>\n",
       "      <td>Positivo</td>\n",
       "      <td>L ens parla avui de filosofia i  a la primera ...</td>\n",
       "    </tr>\n",
       "    <tr>\n",
       "      <th>10046</th>\n",
       "      <td>1.103684e+18</td>\n",
       "      <td>MHP @QuimTorraiPla @JuntsXCat @Pdemocratacat @...</td>\n",
       "      <td>Positivo</td>\n",
       "      <td>MHP      Si no heu complert amb el mandat del ...</td>\n",
       "    </tr>\n",
       "    <tr>\n",
       "      <th>10047</th>\n",
       "      <td>1.097852e+18</td>\n",
       "      <td>Buch, sobre el judici:  Per fi els presos pode...</td>\n",
       "      <td>Positivo</td>\n",
       "      <td>Buch sobre el judici  Per fi els presos poden ...</td>\n",
       "    </tr>\n",
       "  </tbody>\n",
       "</table>\n",
       "<p>10048 rows × 4 columns</p>\n",
       "</div>"
      ],
      "text/plain": [
       "                 Id                                              Texto  \\\n",
       "0      1.102852e+34  En @fgarrobo ha fet més per l’independentisme ...   \n",
       "1      1.098893e+18  Divendres 22F acte Cloenda campanya de les can...   \n",
       "2      1.099032e+34  Puigdemont porta a la Defensora del Poble euro...   \n",
       "3      1.102519e+32  José Antonio Nieto, ex-secretari d'Estat de Se...   \n",
       "4      1.093082e+18  Es passen dies denunciant l'autocar amb que va...   \n",
       "...             ...                                                ...   \n",
       "10043  1.098828e+34  @JoanTarda @I_CSC Això és un sindicat...i tu e...   \n",
       "10044  1.097865e+18  @miqueliceta @PSOE @socialistes_cat Deixi de p...   \n",
       "10045  1.097985e+18  L'@annasaliente ens parla avui de filosofia i ...   \n",
       "10046  1.103684e+18  MHP @QuimTorraiPla @JuntsXCat @Pdemocratacat @...   \n",
       "10047  1.097852e+18  Buch, sobre el judici:  Per fi els presos pode...   \n",
       "\n",
       "      Sentimiento                                 Texto_preprocesado  \n",
       "0        Negativo  En  ha fet més per l’independentisme i la unit...  \n",
       "1        Positivo  Divendres 22F acte Cloenda campanya de les can...  \n",
       "2         Neutral  Puigdemont porta a la Defensora del Poble euro...  \n",
       "3         Neutral  José Antonio Nieto exsecretari dEstat de Segur...  \n",
       "4        Positivo  Es passen dies denunciant lautocar amb que van...  \n",
       "...           ...                                                ...  \n",
       "10043    Negativo    Això és un sindicati tu ets de esquerres Est...  \n",
       "10044    Positivo     Deixi de prendre els catalans per imbècils ...  \n",
       "10045    Positivo  L ens parla avui de filosofia i  a la primera ...  \n",
       "10046    Positivo  MHP      Si no heu complert amb el mandat del ...  \n",
       "10047    Positivo  Buch sobre el judici  Per fi els presos poden ...  \n",
       "\n",
       "[10048 rows x 4 columns]"
      ]
     },
     "execution_count": 5,
     "metadata": {},
     "output_type": "execute_result"
    }
   ],
   "source": [
    "df"
   ]
  },
  {
   "cell_type": "code",
   "execution_count": 6,
   "metadata": {},
   "outputs": [],
   "source": [
    "df = df[['Texto_preprocesado', 'Sentimiento']]"
   ]
  },
  {
   "cell_type": "code",
   "execution_count": 15,
   "metadata": {},
   "outputs": [],
   "source": [
    "# guardar df preprocesado para retrieval\n",
    "df.to_csv('C:\\TFG\\DataProcessed\\independencia_df_ca_retrieval.csv', index=False)"
   ]
  },
  {
   "cell_type": "code",
   "execution_count": 45,
   "metadata": {},
   "outputs": [
    {
     "name": "stdout",
     "output_type": "stream",
     "text": [
      "Is CUDA available: True\n",
      "CUDA version: 12.1\n",
      "cuDNN version: 8801\n"
     ]
    }
   ],
   "source": [
    "print(\"Is CUDA available:\", torch.cuda.is_available())\n",
    "print(\"CUDA version:\", torch.version.cuda)\n",
    "print(\"cuDNN version:\", torch.backends.cudnn.version())"
   ]
  },
  {
   "cell_type": "markdown",
   "metadata": {},
   "source": [
    "### Version CHROMADB y LANGCCHAIN"
   ]
  },
  {
   "cell_type": "code",
   "execution_count": 7,
   "metadata": {},
   "outputs": [],
   "source": [
    "import chromadb\n",
    "\n",
    "client = chromadb.PersistentClient(path=\"./database_ca\")"
   ]
  },
  {
   "cell_type": "code",
   "execution_count": 8,
   "metadata": {},
   "outputs": [],
   "source": [
    "collection = client.get_or_create_collection(name=\"tweets_ca\")"
   ]
  },
  {
   "cell_type": "code",
   "execution_count": 9,
   "metadata": {},
   "outputs": [],
   "source": [
    "documents = []\n",
    "metadatas = []\n",
    "ids = []\n",
    "for j, item in enumerate(df[['Sentimiento', 'Texto_preprocesado']].values):\n",
    "    ids.append(str(j))\n",
    "    documents.append(item[1])\n",
    "    metadatas.append({\"title\": item[0]})\n",
    "\n",
    "collection.add(\n",
    "    documents=documents,\n",
    "    metadatas=metadatas,\n",
    "    ids=ids\n",
    ")"
   ]
  },
  {
   "cell_type": "code",
   "execution_count": 10,
   "metadata": {},
   "outputs": [
    {
     "name": "stderr",
     "output_type": "stream",
     "text": [
      "c:\\Users\\Lenovo\\anaconda3\\envs\\ChromaDB\\lib\\site-packages\\huggingface_hub\\file_download.py:1132: FutureWarning: `resume_download` is deprecated and will be removed in version 1.0.0. Downloads always resume when possible. If you want to force a new download, use `force_download=True`.\n",
      "  warnings.warn(\n",
      "c:\\Users\\Lenovo\\anaconda3\\envs\\ChromaDB\\lib\\site-packages\\huggingface_hub\\file_download.py:1132: FutureWarning: `resume_download` is deprecated and will be removed in version 1.0.0. Downloads always resume when possible. If you want to force a new download, use `force_download=True`.\n",
      "  warnings.warn(\n"
     ]
    }
   ],
   "source": [
    "from langchain.embeddings.sentence_transformer import SentenceTransformerEmbeddings\n",
    "\n",
    "embedding_function = SentenceTransformerEmbeddings(model_name=\"paraphrase-multilingual-mpnet-base-v2\")"
   ]
  },
  {
   "cell_type": "code",
   "execution_count": 11,
   "metadata": {},
   "outputs": [
    {
     "name": "stdout",
     "output_type": "stream",
     "text": [
      "There are 10048 contexts in the collection\n"
     ]
    }
   ],
   "source": [
    "from langchain.vectorstores import Chroma\n",
    "\n",
    "langchain_chroma = Chroma(\n",
    "    client=client,\n",
    "    collection_name=\"tweets_ca\",\n",
    "    embedding_function=embedding_function,\n",
    ")\n",
    "print(\"There are\", langchain_chroma._collection.count(), \"contexts in the collection\")"
   ]
  },
  {
   "cell_type": "code",
   "execution_count": 12,
   "metadata": {},
   "outputs": [
    {
     "data": {
      "text/plain": [
       "[[' La independencia de Catalunya  ',\n",
       "  'RT  O sigui segons  la independència de Catalunya és perfectament possible ',\n",
       "  'RT  El president Quim Torra ha remarcat que la independència de Catalunya és inaturable ',\n",
       "  'Ken Follet es pronuncia contra la independència de Catalunya ',\n",
       "  'RT  Jo no vull la ingovernabilitat dEspanya jo vull la independència de Catalunya']]"
      ]
     },
     "execution_count": 12,
     "metadata": {},
     "output_type": "execute_result"
    }
   ],
   "source": [
    "results = collection.query(\n",
    "    # redacta una pregunta en catalan\n",
    "    query_texts=[\"què és la independència de catalunya?\"],\n",
    "    n_results=5,\n",
    "    include=[\"documents\"]\n",
    ")\n",
    "results['documents']"
   ]
  },
  {
   "cell_type": "code",
   "execution_count": 14,
   "metadata": {},
   "outputs": [
    {
     "data": {
      "text/plain": [
       "[['RT  Carles Puigdemont  Els que ens voldrien de genolls demà tindran una resposta  ',\n",
       "  '    Deja la droga hombre Què trist veure aquest babejant de ganes de detenir Puigdemont   ',\n",
       "  'RT  Ciutadans desembarca aquest dissabte al poble de Puigdemont  ',\n",
       "  'RT  Lestel del vespre  infantarà la nova  llum daquest poble   ',\n",
       "  'RT  Puigdemont viatja a Suïssa per participar a la Festa de la República del cantó de Jura ',\n",
       "  'EN DIRECTE Nieto ‘Vam dir a Puigdemont que prevalia la llei per sobre de la convivència’ ',\n",
       "  'RT  Puigdemont  assegura que està disposat a mantenir una  entrevista cordial  amb  aquest diumenge htt…',\n",
       "  'RT  Puigdemont va al Parlament Europeu per inaugurar una exposició sobre el català   ',\n",
       "  'Artadi assumeix la interlocució amb Madrid per ordre de Puigdemont ',\n",
       "  'RT    Puigdemont  Qui aturarà que això no succeeixi en països on els dirigents autoritaris estan pujant”']]"
      ]
     },
     "execution_count": 14,
     "metadata": {},
     "output_type": "execute_result"
    }
   ],
   "source": [
    "title = \"Positivo\"\n",
    "\n",
    "results = collection.query(\n",
    "    query_texts=[\"què pensa la gent sobre Puidgdemont?\"],\n",
    "    n_results=10,\n",
    "    where={\"title\": title}\n",
    ")\n",
    "results['documents']"
   ]
  },
  {
   "cell_type": "markdown",
   "metadata": {},
   "source": [
    "### Versión SBert + Fine-Tuning"
   ]
  },
  {
   "cell_type": "code",
   "execution_count": 8,
   "metadata": {},
   "outputs": [
    {
     "data": {
      "text/plain": [
       "SentenceTransformer(\n",
       "  (0): Transformer({'max_seq_length': 128, 'do_lower_case': False}) with Transformer model: XLMRobertaModel \n",
       "  (1): Pooling({'word_embedding_dimension': 768, 'pooling_mode_cls_token': False, 'pooling_mode_mean_tokens': True, 'pooling_mode_max_tokens': False, 'pooling_mode_mean_sqrt_len_tokens': False, 'pooling_mode_weightedmean_tokens': False, 'pooling_mode_lasttoken': False})\n",
       ")"
      ]
     },
     "execution_count": 8,
     "metadata": {},
     "output_type": "execute_result"
    }
   ],
   "source": [
    "# Cargar el modelo,  el parametro device='cuda' sirve para usar la GPU, pero no tenemos acceso\n",
    "model = SentenceTransformer('paraphrase-multilingual-mpnet-base-v2')\n",
    "model"
   ]
  },
  {
   "cell_type": "code",
   "execution_count": 46,
   "metadata": {},
   "outputs": [],
   "source": [
    "# Función de búsqueda semántica\n",
    "def semantic_search(query, df, column='Texto_preprocesado', top_n=5):\n",
    "    '''\n",
    "    la funcion semantic_search toma una consulta y un dataframe y devuelve los resultados más similares en el dataframe\n",
    "    parámetros:\n",
    "    - query: texto de la consulta\n",
    "    - df: dataframe con los textos a comparar\n",
    "    - column: nombre de la columna que contiene los textos\n",
    "    - top_n: número de resultados a devolver\n",
    "    retorna:\n",
    "    - dataframe con los resultados más similares\n",
    "    '''\n",
    "    # Codifica el texto de la consulta\n",
    "    query_embedding = model.encode([query], convert_to_tensor=True).cpu()\n",
    "    # Codifica los textos del dataframe\n",
    "    text_embeddings = model.encode(df[column].tolist(), convert_to_tensor=True).cpu()\n",
    "    # Calcula las puntuaciones de similitud\n",
    "    cos_scores = util.pytorch_cos_sim(query_embedding, text_embeddings)[0]\n",
    "    # Obtiene los índices de los resultados más altos\n",
    "    top_results = torch.topk(cos_scores, k=top_n)\n",
    "    return df.iloc[top_results.indices].assign(similarity=top_results.values)"
   ]
  },
  {
   "cell_type": "code",
   "execution_count": 47,
   "metadata": {},
   "outputs": [
    {
     "name": "stdout",
     "output_type": "stream",
     "text": [
      "Similarity Score: 0.5841\n",
      "   jo no he dit mai que tots els indepes siguin aixi no ho penso pero lo de quimtorra no va ser nomes un article i  en el darrer any estic veien paraules como  colono  etcetc q em fan por i llastima i ja se que daltre costat nhi ha gent igual pero aixo no es excusa\n",
      "==================================================\n",
      "Similarity Score: 0.5158\n",
      "una pregunta buch es entorn puigdemont sol es entorn junqueras mirem la seva capacitat dempatia per jutjar els seus liders   jo diria que no gaire\n",
      "==================================================\n",
      "Similarity Score: 0.5140\n",
      "!!diu ladvocacia de lestat que no sha vulnerat el dret a la presumpcio dinnocencia dels presos politics   potser al far west no  pero en qualsevol estat democratic del sxxi si  jutgeu vosaltres mateixos     \n",
      "==================================================\n",
      "Similarity Score: 0.5129\n",
      "  quin fastic de gent\n",
      "==================================================\n",
      "Similarity Score: 0.5093\n",
      "total que hom diria que ja han decidit que elisenda almany fa nosa a tot arreu sembla que molta gent fa nosa per dir o pensar segons que quines coses la politica no se qui queda amb un grau de puresa al  jo segur que no\n",
      "==================================================\n"
     ]
    }
   ],
   "source": [
    "# Codifica el texto de la consulta\n",
    "query_text = \"¿quina opinió hi ha sobre els indepes??\"\n",
    "results = semantic_search(query_text, df)\n",
    "for _, row in results.iterrows():\n",
    "    print(f\"Similarity Score: {row['similarity']:.4f}\")\n",
    "    print(row['Texto_preprocesado'])\n",
    "    print(\"=\"*50)"
   ]
  },
  {
   "cell_type": "code",
   "execution_count": 48,
   "metadata": {},
   "outputs": [
    {
     "data": {
      "text/html": [
       "<div>\n",
       "<style scoped>\n",
       "    .dataframe tbody tr th:only-of-type {\n",
       "        vertical-align: middle;\n",
       "    }\n",
       "\n",
       "    .dataframe tbody tr th {\n",
       "        vertical-align: top;\n",
       "    }\n",
       "\n",
       "    .dataframe thead th {\n",
       "        text-align: right;\n",
       "    }\n",
       "</style>\n",
       "<table border=\"1\" class=\"dataframe\">\n",
       "  <thead>\n",
       "    <tr style=\"text-align: right;\">\n",
       "      <th></th>\n",
       "      <th>Texto_preprocesado</th>\n",
       "      <th>Sentimiento</th>\n",
       "    </tr>\n",
       "  </thead>\n",
       "  <tbody>\n",
       "    <tr>\n",
       "      <th>2592</th>\n",
       "      <td>jo no he dit mai que tots els indepes sigui...</td>\n",
       "      <td>Negativo</td>\n",
       "    </tr>\n",
       "    <tr>\n",
       "      <th>1926</th>\n",
       "      <td>una pregunta buch es entorn puigdemont sol es ...</td>\n",
       "      <td>Positivo</td>\n",
       "    </tr>\n",
       "    <tr>\n",
       "      <th>8576</th>\n",
       "      <td>!!diu ladvocacia de lestat que no sha vulnerat...</td>\n",
       "      <td>Neutral</td>\n",
       "    </tr>\n",
       "    <tr>\n",
       "      <th>1331</th>\n",
       "      <td>quin fastic de gent</td>\n",
       "      <td>Negativo</td>\n",
       "    </tr>\n",
       "    <tr>\n",
       "      <th>2411</th>\n",
       "      <td>total que hom diria que ja han decidit que eli...</td>\n",
       "      <td>Positivo</td>\n",
       "    </tr>\n",
       "  </tbody>\n",
       "</table>\n",
       "</div>"
      ],
      "text/plain": [
       "                                     Texto_preprocesado Sentimiento\n",
       "2592     jo no he dit mai que tots els indepes sigui...    Negativo\n",
       "1926  una pregunta buch es entorn puigdemont sol es ...    Positivo\n",
       "8576  !!diu ladvocacia de lestat que no sha vulnerat...     Neutral\n",
       "1331                                quin fastic de gent    Negativo\n",
       "2411  total que hom diria que ja han decidit que eli...    Positivo"
      ]
     },
     "execution_count": 48,
     "metadata": {},
     "output_type": "execute_result"
    }
   ],
   "source": [
    "results[['Texto_preprocesado', 'Sentimiento']]"
   ]
  },
  {
   "cell_type": "code",
   "execution_count": 49,
   "metadata": {},
   "outputs": [
    {
     "name": "stdout",
     "output_type": "stream",
     "text": [
      "Similarity Score: 0.7522\n",
      "rt     son feixistes  fins la medul*la\n",
      "==================================================\n",
      "Similarity Score: 0.7438\n",
      " es fan el feixisme a sobre\n",
      "==================================================\n",
      "Similarity Score: 0.7334\n",
      "el feixisme ja sha instal*lat als organs de representacio de lue aixo es gravissim  no afecta nomes catalunya es el feixisme que torna contra tots a cara descoberta protestem \n",
      "==================================================\n",
      "Similarity Score: 0.7319\n",
      "rt  al feixisme no se'l discuteix se'l destrueix buenaventura durruti  \n",
      "==================================================\n",
      "Similarity Score: 0.7040\n",
      "rt  pero els feixistes son els altres ell no que es catala \n",
      "==================================================\n"
     ]
    }
   ],
   "source": [
    "# Codifica el texto de la consulta\n",
    "query_text = \"¿quina opinió hi ha sobre els feixistes??\"\n",
    "results = semantic_search(query_text, df)\n",
    "for _, row in results.iterrows():\n",
    "    print(f\"Similarity Score: {row['similarity']:.4f}\")\n",
    "    print(row['Texto_preprocesado'])\n",
    "    print(\"=\"*50)"
   ]
  },
  {
   "cell_type": "code",
   "execution_count": 50,
   "metadata": {},
   "outputs": [
    {
     "data": {
      "text/html": [
       "<div>\n",
       "<style scoped>\n",
       "    .dataframe tbody tr th:only-of-type {\n",
       "        vertical-align: middle;\n",
       "    }\n",
       "\n",
       "    .dataframe tbody tr th {\n",
       "        vertical-align: top;\n",
       "    }\n",
       "\n",
       "    .dataframe thead th {\n",
       "        text-align: right;\n",
       "    }\n",
       "</style>\n",
       "<table border=\"1\" class=\"dataframe\">\n",
       "  <thead>\n",
       "    <tr style=\"text-align: right;\">\n",
       "      <th></th>\n",
       "      <th>Texto_preprocesado</th>\n",
       "      <th>Sentimiento</th>\n",
       "    </tr>\n",
       "  </thead>\n",
       "  <tbody>\n",
       "    <tr>\n",
       "      <th>5483</th>\n",
       "      <td>rt     son feixistes  fins la medul*la</td>\n",
       "      <td>Neutral</td>\n",
       "    </tr>\n",
       "    <tr>\n",
       "      <th>2969</th>\n",
       "      <td>es fan el feixisme a sobre</td>\n",
       "      <td>Negativo</td>\n",
       "    </tr>\n",
       "    <tr>\n",
       "      <th>6511</th>\n",
       "      <td>el feixisme ja sha instal*lat als organs de re...</td>\n",
       "      <td>Positivo</td>\n",
       "    </tr>\n",
       "    <tr>\n",
       "      <th>4053</th>\n",
       "      <td>rt  al feixisme no se'l discuteix se'l destrue...</td>\n",
       "      <td>Positivo</td>\n",
       "    </tr>\n",
       "    <tr>\n",
       "      <th>9686</th>\n",
       "      <td>rt  pero els feixistes son els altres ell no q...</td>\n",
       "      <td>Negativo</td>\n",
       "    </tr>\n",
       "  </tbody>\n",
       "</table>\n",
       "</div>"
      ],
      "text/plain": [
       "                                     Texto_preprocesado Sentimiento\n",
       "5483             rt     son feixistes  fins la medul*la     Neutral\n",
       "2969                         es fan el feixisme a sobre    Negativo\n",
       "6511  el feixisme ja sha instal*lat als organs de re...    Positivo\n",
       "4053  rt  al feixisme no se'l discuteix se'l destrue...    Positivo\n",
       "9686  rt  pero els feixistes son els altres ell no q...    Negativo"
      ]
     },
     "execution_count": 50,
     "metadata": {},
     "output_type": "execute_result"
    }
   ],
   "source": [
    "results[['Texto_preprocesado', 'Sentimiento']]"
   ]
  },
  {
   "cell_type": "code",
   "execution_count": 51,
   "metadata": {},
   "outputs": [
    {
     "name": "stdout",
     "output_type": "stream",
     "text": [
      "Similarity Score: 0.6583\n",
      "rt   haver proclamat una republica no simbolica\n",
      "==================================================\n",
      "Similarity Score: 0.6236\n",
      " perque malgrat el xivarri de twitter les republiques magiques si es poses a votacio una proposta de pla ibarretxe  o federalisme de debo la gent votaria si\n",
      "==================================================\n",
      "Similarity Score: 0.6008\n",
      "!! e n q u e s t a    r e a l!! la democracia et diu fes rt la llei no diumenge ve el borbo al mwc  !!!! com sera recordat\n",
      "==================================================\n",
      "Similarity Score: 0.5922\n",
      "rt     autodeterminacio  crida el molt descafeinat i  republica  quina \n",
      "==================================================\n",
      "Similarity Score: 0.5710\n",
      "  !! opinio erc des del  que va ser legalitzada ens ha enganyat a tots es va declarar independentista quant no ho ha estat mai  erc es declara republicana des del dia que va neixer ara fa mes de  anys i sino us ho creieu escolteu a en  durant   \n",
      "==================================================\n"
     ]
    }
   ],
   "source": [
    "# Codifica el texto de la consulta\n",
    "query_text = \"¿quina opinió hi ha sobre la república??\"\n",
    "results = semantic_search(query_text, df)\n",
    "for _, row in results.iterrows():\n",
    "    print(f\"Similarity Score: {row['similarity']:.4f}\")\n",
    "    print(row['Texto_preprocesado'])\n",
    "    print(\"=\"*50)"
   ]
  },
  {
   "cell_type": "code",
   "execution_count": 52,
   "metadata": {},
   "outputs": [
    {
     "data": {
      "text/html": [
       "<div>\n",
       "<style scoped>\n",
       "    .dataframe tbody tr th:only-of-type {\n",
       "        vertical-align: middle;\n",
       "    }\n",
       "\n",
       "    .dataframe tbody tr th {\n",
       "        vertical-align: top;\n",
       "    }\n",
       "\n",
       "    .dataframe thead th {\n",
       "        text-align: right;\n",
       "    }\n",
       "</style>\n",
       "<table border=\"1\" class=\"dataframe\">\n",
       "  <thead>\n",
       "    <tr style=\"text-align: right;\">\n",
       "      <th></th>\n",
       "      <th>Texto_preprocesado</th>\n",
       "      <th>Sentimiento</th>\n",
       "    </tr>\n",
       "  </thead>\n",
       "  <tbody>\n",
       "    <tr>\n",
       "      <th>6815</th>\n",
       "      <td>rt   haver proclamat una republica no simbolica</td>\n",
       "      <td>Negativo</td>\n",
       "    </tr>\n",
       "    <tr>\n",
       "      <th>5680</th>\n",
       "      <td>perque malgrat el xivarri de twitter les repu...</td>\n",
       "      <td>Positivo</td>\n",
       "    </tr>\n",
       "    <tr>\n",
       "      <th>5160</th>\n",
       "      <td>!! e n q u e s t a    r e a l!! la democracia ...</td>\n",
       "      <td>Positivo</td>\n",
       "    </tr>\n",
       "    <tr>\n",
       "      <th>3110</th>\n",
       "      <td>rt     autodeterminacio  crida el molt descafe...</td>\n",
       "      <td>Positivo</td>\n",
       "    </tr>\n",
       "    <tr>\n",
       "      <th>884</th>\n",
       "      <td>!! opinio erc des del  que va ser legalitzad...</td>\n",
       "      <td>Positivo</td>\n",
       "    </tr>\n",
       "  </tbody>\n",
       "</table>\n",
       "</div>"
      ],
      "text/plain": [
       "                                     Texto_preprocesado Sentimiento\n",
       "6815    rt   haver proclamat una republica no simbolica    Negativo\n",
       "5680   perque malgrat el xivarri de twitter les repu...    Positivo\n",
       "5160  !! e n q u e s t a    r e a l!! la democracia ...    Positivo\n",
       "3110  rt     autodeterminacio  crida el molt descafe...    Positivo\n",
       "884     !! opinio erc des del  que va ser legalitzad...    Positivo"
      ]
     },
     "execution_count": 52,
     "metadata": {},
     "output_type": "execute_result"
    }
   ],
   "source": [
    "results[['Texto_preprocesado', 'Sentimiento']]"
   ]
  },
  {
   "cell_type": "code",
   "execution_count": 53,
   "metadata": {},
   "outputs": [
    {
     "name": "stdout",
     "output_type": "stream",
     "text": [
      "Similarity Score: 0.6877\n",
      "quina xuleria i quin supremacisme el sr jose antonio nieto al  de debo aquest es el nivell de la politica espanyola i els seus carrecs despres algu s'estrenyara que espany vagi com va pero tot i les ficades de pots que fan tot est escrit \n",
      "==================================================\n",
      "Similarity Score: 0.6852\n",
      "avui  ha comentat lactualitat politica des de la seu de barcelona  tho expliquem  \n",
      "==================================================\n",
      "Similarity Score: 0.6559\n",
      "al seu prego sabina ha criticat quimtorra puigdemont i artadi aquesta opinadora organica evidentment fa veure que ha criticat tots els catalans i aixi tot \n",
      "==================================================\n",
      "Similarity Score: 0.6457\n",
      " seguim en directe la declaracio del vicepresident pere aragones des de madrid     \n",
      "==================================================\n",
      "Similarity Score: 0.6423\n",
      "si no hi ha cap sorpresa de darrera hora albert rivera ungira ines arrimadas com a candidata de ciutadans a les eleccions espanyoles la cap de l'oposicio fa el salt a la politica espanyola  lultima de   \n",
      "==================================================\n"
     ]
    }
   ],
   "source": [
    "# Codifica el texto de la consulta\n",
    "query_text = \"¿quina opinió hi ha sobre carles Puigdemont??\"\n",
    "results = semantic_search(query_text, df)\n",
    "for _, row in results.iterrows():\n",
    "    print(f\"Similarity Score: {row['similarity']:.4f}\")\n",
    "    print(row['Texto_preprocesado'])\n",
    "    print(\"=\"*50)"
   ]
  },
  {
   "cell_type": "code",
   "execution_count": 54,
   "metadata": {},
   "outputs": [
    {
     "data": {
      "text/html": [
       "<div>\n",
       "<style scoped>\n",
       "    .dataframe tbody tr th:only-of-type {\n",
       "        vertical-align: middle;\n",
       "    }\n",
       "\n",
       "    .dataframe tbody tr th {\n",
       "        vertical-align: top;\n",
       "    }\n",
       "\n",
       "    .dataframe thead th {\n",
       "        text-align: right;\n",
       "    }\n",
       "</style>\n",
       "<table border=\"1\" class=\"dataframe\">\n",
       "  <thead>\n",
       "    <tr style=\"text-align: right;\">\n",
       "      <th></th>\n",
       "      <th>Texto_preprocesado</th>\n",
       "      <th>Sentimiento</th>\n",
       "    </tr>\n",
       "  </thead>\n",
       "  <tbody>\n",
       "    <tr>\n",
       "      <th>9736</th>\n",
       "      <td>quina xuleria i quin supremacisme el sr jose a...</td>\n",
       "      <td>Positivo</td>\n",
       "    </tr>\n",
       "    <tr>\n",
       "      <th>334</th>\n",
       "      <td>avui  ha comentat lactualitat politica des de ...</td>\n",
       "      <td>Negativo</td>\n",
       "    </tr>\n",
       "    <tr>\n",
       "      <th>362</th>\n",
       "      <td>al seu prego sabina ha criticat quimtorra puig...</td>\n",
       "      <td>Negativo</td>\n",
       "    </tr>\n",
       "    <tr>\n",
       "      <th>5245</th>\n",
       "      <td>seguim en directe la declaracio del vicepresi...</td>\n",
       "      <td>Neutral</td>\n",
       "    </tr>\n",
       "    <tr>\n",
       "      <th>2207</th>\n",
       "      <td>si no hi ha cap sorpresa de darrera hora alber...</td>\n",
       "      <td>Positivo</td>\n",
       "    </tr>\n",
       "  </tbody>\n",
       "</table>\n",
       "</div>"
      ],
      "text/plain": [
       "                                     Texto_preprocesado Sentimiento\n",
       "9736  quina xuleria i quin supremacisme el sr jose a...    Positivo\n",
       "334   avui  ha comentat lactualitat politica des de ...    Negativo\n",
       "362   al seu prego sabina ha criticat quimtorra puig...    Negativo\n",
       "5245   seguim en directe la declaracio del vicepresi...     Neutral\n",
       "2207  si no hi ha cap sorpresa de darrera hora alber...    Positivo"
      ]
     },
     "execution_count": 54,
     "metadata": {},
     "output_type": "execute_result"
    }
   ],
   "source": [
    "results[['Texto_preprocesado', 'Sentimiento']]"
   ]
  },
  {
   "cell_type": "code",
   "execution_count": 55,
   "metadata": {},
   "outputs": [
    {
     "name": "stdout",
     "output_type": "stream",
     "text": [
      "Similarity Score: 0.7831\n",
      "rt  catalansvoteu a les eleccions espanyoles que aixi aconseguireu la independencia \n",
      "==================================================\n",
      "Similarity Score: 0.7810\n",
      "rt   si para ser catalana y votar independencia no esta mal \n",
      "==================================================\n",
      "Similarity Score: 0.7802\n",
      "rt    en un referendum sobre la pertinenca de catalunya dins d'europa que hi votarieu\n",
      "==================================================\n",
      "Similarity Score: 0.7682\n",
      "turull  molta gent que defensa el referendum esta en contra de la independencia de catalunya mes del  dels ciutadans acceptaria el resultat de la votacio    \n",
      "==================================================\n",
      "Similarity Score: 0.7673\n",
      " catalunya nou estat d'europa  via catalana per la independencia  n votarem n guanyarem  via lliure a la republica  a punt  la diada del si  fem la republica catalana\n",
      "==================================================\n"
     ]
    }
   ],
   "source": [
    "# Codifica el texto de la consulta\n",
    "query_text = \"¿quina opinió hi ha sobre la independència de Catalunya??\"\n",
    "results = semantic_search(query_text, df)\n",
    "for _, row in results.iterrows():\n",
    "    print(f\"Similarity Score: {row['similarity']:.4f}\")\n",
    "    print(row['Texto_preprocesado'])\n",
    "    print(\"=\"*50)"
   ]
  },
  {
   "cell_type": "code",
   "execution_count": 56,
   "metadata": {},
   "outputs": [
    {
     "data": {
      "text/html": [
       "<div>\n",
       "<style scoped>\n",
       "    .dataframe tbody tr th:only-of-type {\n",
       "        vertical-align: middle;\n",
       "    }\n",
       "\n",
       "    .dataframe tbody tr th {\n",
       "        vertical-align: top;\n",
       "    }\n",
       "\n",
       "    .dataframe thead th {\n",
       "        text-align: right;\n",
       "    }\n",
       "</style>\n",
       "<table border=\"1\" class=\"dataframe\">\n",
       "  <thead>\n",
       "    <tr style=\"text-align: right;\">\n",
       "      <th></th>\n",
       "      <th>Texto_preprocesado</th>\n",
       "      <th>Sentimiento</th>\n",
       "    </tr>\n",
       "  </thead>\n",
       "  <tbody>\n",
       "    <tr>\n",
       "      <th>7195</th>\n",
       "      <td>rt  catalansvoteu a les eleccions espanyoles q...</td>\n",
       "      <td>Positivo</td>\n",
       "    </tr>\n",
       "    <tr>\n",
       "      <th>4618</th>\n",
       "      <td>rt   si para ser catalana y votar independenci...</td>\n",
       "      <td>Positivo</td>\n",
       "    </tr>\n",
       "    <tr>\n",
       "      <th>7788</th>\n",
       "      <td>rt    en un referendum sobre la pertinenca de ...</td>\n",
       "      <td>Positivo</td>\n",
       "    </tr>\n",
       "    <tr>\n",
       "      <th>263</th>\n",
       "      <td>turull  molta gent que defensa el referendum e...</td>\n",
       "      <td>Neutral</td>\n",
       "    </tr>\n",
       "    <tr>\n",
       "      <th>2429</th>\n",
       "      <td>catalunya nou estat d'europa  via catalana pe...</td>\n",
       "      <td>Negativo</td>\n",
       "    </tr>\n",
       "  </tbody>\n",
       "</table>\n",
       "</div>"
      ],
      "text/plain": [
       "                                     Texto_preprocesado Sentimiento\n",
       "7195  rt  catalansvoteu a les eleccions espanyoles q...    Positivo\n",
       "4618  rt   si para ser catalana y votar independenci...    Positivo\n",
       "7788  rt    en un referendum sobre la pertinenca de ...    Positivo\n",
       "263   turull  molta gent que defensa el referendum e...     Neutral\n",
       "2429   catalunya nou estat d'europa  via catalana pe...    Negativo"
      ]
     },
     "execution_count": 56,
     "metadata": {},
     "output_type": "execute_result"
    }
   ],
   "source": [
    "results[['Texto_preprocesado', 'Sentimiento']]"
   ]
  },
  {
   "cell_type": "code",
   "execution_count": 57,
   "metadata": {},
   "outputs": [
    {
     "name": "stdout",
     "output_type": "stream",
     "text": [
      "Similarity Score: 0.7916\n",
      "    parlaven de fer un referendum al programa on es el referendum\n",
      "==================================================\n",
      "Similarity Score: 0.7844\n",
      "rt  gracies lluis per fer possible el referendum  \n",
      "==================================================\n",
      "Similarity Score: 0.7828\n",
      "rt  no es conya  l'associacio d'afectats per l'o considera una 'decepcio' que es proposi un altre referendum \n",
      "==================================================\n",
      "Similarity Score: 0.7739\n",
      " el senyor junqueras ara diu que el referendum anaba al programa de jxsi\n",
      "==================================================\n",
      "Similarity Score: 0.7654\n",
      "video   recorda i reviu el referendum de lo de  \n",
      "==================================================\n"
     ]
    }
   ],
   "source": [
    "# Codifica el texto de la consulta\n",
    "query_text = \"¿quina opinió hi ha sobre el referèndum?\"\n",
    "results = semantic_search(query_text, df)\n",
    "for _, row in results.iterrows():\n",
    "    print(f\"Similarity Score: {row['similarity']:.4f}\")\n",
    "    print(row['Texto_preprocesado'])\n",
    "    print(\"=\"*50)"
   ]
  },
  {
   "cell_type": "code",
   "execution_count": 58,
   "metadata": {},
   "outputs": [
    {
     "data": {
      "text/html": [
       "<div>\n",
       "<style scoped>\n",
       "    .dataframe tbody tr th:only-of-type {\n",
       "        vertical-align: middle;\n",
       "    }\n",
       "\n",
       "    .dataframe tbody tr th {\n",
       "        vertical-align: top;\n",
       "    }\n",
       "\n",
       "    .dataframe thead th {\n",
       "        text-align: right;\n",
       "    }\n",
       "</style>\n",
       "<table border=\"1\" class=\"dataframe\">\n",
       "  <thead>\n",
       "    <tr style=\"text-align: right;\">\n",
       "      <th></th>\n",
       "      <th>Texto_preprocesado</th>\n",
       "      <th>Sentimiento</th>\n",
       "    </tr>\n",
       "  </thead>\n",
       "  <tbody>\n",
       "    <tr>\n",
       "      <th>6605</th>\n",
       "      <td>parlaven de fer un referendum al programa ...</td>\n",
       "      <td>Positivo</td>\n",
       "    </tr>\n",
       "    <tr>\n",
       "      <th>7543</th>\n",
       "      <td>rt  gracies lluis per fer possible el referend...</td>\n",
       "      <td>Positivo</td>\n",
       "    </tr>\n",
       "    <tr>\n",
       "      <th>4097</th>\n",
       "      <td>rt  no es conya  l'associacio d'afectats per l...</td>\n",
       "      <td>Negativo</td>\n",
       "    </tr>\n",
       "    <tr>\n",
       "      <th>3587</th>\n",
       "      <td>el senyor junqueras ara diu que el referendum...</td>\n",
       "      <td>Positivo</td>\n",
       "    </tr>\n",
       "    <tr>\n",
       "      <th>7654</th>\n",
       "      <td>video   recorda i reviu el referendum de lo de</td>\n",
       "      <td>Positivo</td>\n",
       "    </tr>\n",
       "  </tbody>\n",
       "</table>\n",
       "</div>"
      ],
      "text/plain": [
       "                                     Texto_preprocesado Sentimiento\n",
       "6605      parlaven de fer un referendum al programa ...    Positivo\n",
       "7543  rt  gracies lluis per fer possible el referend...    Positivo\n",
       "4097  rt  no es conya  l'associacio d'afectats per l...    Negativo\n",
       "3587   el senyor junqueras ara diu que el referendum...    Positivo\n",
       "7654   video   recorda i reviu el referendum de lo de      Positivo"
      ]
     },
     "execution_count": 58,
     "metadata": {},
     "output_type": "execute_result"
    }
   ],
   "source": [
    "results[['Texto_preprocesado', 'Sentimiento']]"
   ]
  }
 ],
 "metadata": {
  "kernelspec": {
   "display_name": "base",
   "language": "python",
   "name": "python3"
  },
  "language_info": {
   "codemirror_mode": {
    "name": "ipython",
    "version": 3
   },
   "file_extension": ".py",
   "mimetype": "text/x-python",
   "name": "python",
   "nbconvert_exporter": "python",
   "pygments_lexer": "ipython3",
   "version": "3.9.19"
  }
 },
 "nbformat": 4,
 "nbformat_minor": 2
}
